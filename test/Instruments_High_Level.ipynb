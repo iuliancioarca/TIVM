{
 "cells": [
  {
   "cell_type": "markdown",
   "metadata": {},
   "source": [
    "PSU"
   ]
  },
  {
   "cell_type": "code",
   "execution_count": null,
   "metadata": {},
   "outputs": [],
   "source": [
    "psu_handle = connect!(\"ASRL5::INSTR\") # conectare la echipament\n",
    "psu = TIVM.PST3201(psu_handle); # instantiere instrument virtual\n",
    "disconnect!(psu)\n",
    "clear_instr(psu)\n",
    "get_idn(psu)\n",
    "set_source_lev(psu, “C1”, 1.1) # “C2” “C3”\n",
    "get_source_lev(psu, “C1”)\n",
    "set_volt_protection(psu, “C1”, 20)\n",
    "get_volt_protection(psu, “C1”)\n",
    "set_curr_protection(psu, “C1”, “off”) # “on”\n",
    "get_curr_protection(psu, “C1”)\n",
    "set_max_curr(psu, “C1”, 0.5)\n",
    "get_max_curr(psu, “C1”)\n",
    "reset_protections(psu)\n",
    "get_meas(psu, “C1”, “voltage”) # “current”\n",
    "set_outp(psu, “C1”, “off”) # “on”\n",
    "get_outp(psu, “C1”)"
   ]
  },
  {
   "cell_type": "markdown",
   "metadata": {},
   "source": [
    "DMM"
   ]
  },
  {
   "cell_type": "code",
   "execution_count": null,
   "metadata": {},
   "outputs": [],
   "source": [
    "dmm_handle = connect!(\"ASRL1::INSTR\") # conectare la echipament\n",
    "dmm = TIVM.GDM8246(dmm_handle); # instantiere instrument virtual\n",
    "disconnect!(dmm)\n",
    "clear_instr(dmm)\n",
    "get_idn(dmm)\n",
    "set_sense_func(dmm, “C1”, “DCV) # “ACV”, “AC+DCV”, “RIPPLE” \"DCA\", \"ACA\", \"AC+DCA\", \"OHM\", \"CAPACITANCE\", \"CONT\", \"DIODE\"\n",
    "get_sense_func(dmm, “C1”)\n",
    "set_sense_range(dmm, “C1”, 10) # 10V range\n",
    "get_sense_range(dmm, “C1”)\n",
    "set_sense_range_auto(dmm, “C1”, “on”) # ”off”\n",
    "get_sense_range_auto(dmm, “C1”)\n",
    "get_primary_measurement(dmm, “C1”)\n",
    "get_secondary_measurement(dmm, “C1”)"
   ]
  },
  {
   "cell_type": "markdown",
   "metadata": {},
   "source": [
    "FGEN"
   ]
  },
  {
   "cell_type": "code",
   "execution_count": null,
   "metadata": {},
   "outputs": [],
   "source": [
    "fgen_handle = connect!(\"ASRL4::INSTR\") # conectare la echipament\n",
    "fgen = TIVM.GDM8246(fgen_handle); # instantiere instrument virtual\n",
    "disconnect!(fgen)\n",
    "clear_instr(fgen)\n",
    "get_idn(fgen)\n",
    "set_wfm(fgen, “C1”, \"sinusoid\") # “triangle” “square”\n",
    "get_wfm(fgen, “C1”)\n",
    "set_amplit_unit(fgen, “C1”, \"Vpp\") # “Vrms” “dBm”\n",
    "get_amplit_unit(fgen, “C1”)\n",
    "set_amplit(fgen, “C1”, 1.1)\n",
    "get_amplit(fgen, “C1”)\n",
    "set_offs(fgen, “C1”, 0.5)\n",
    "get_offs(fgen, “C1”)\n",
    "set_freq(fgen, “C1”, 1333)\n",
    "get_freq(fgen, “C1”)\n",
    "set_duty(fgen, “C1”, 45)\n",
    "get_duty(fgen, “C1”)\n",
    "# fgen nu are buton/setare de output on/off"
   ]
  },
  {
   "cell_type": "markdown",
   "metadata": {},
   "source": [
    "SCOPE"
   ]
  },
  {
   "cell_type": "code",
   "execution_count": null,
   "metadata": {},
   "outputs": [],
   "source": [
    "scope_handle = connect!(\"USB0::0x0699::0x0364::C057729::INSTR\") # conectare la echipament\n",
    "scope = TIVM.GDM8246(scope_handle); # instantiere instrument virtual\n",
    "disconnect!(scope)\n",
    "clear_instr(scope)\n",
    "get_idn(scope)\n",
    "get_vertical_scale(scope, “CH1”) # “CH2”\n",
    "get_horizontal_scale(scope, “Time”)\n",
    "get_ch_position(scope, “CH1”)\n",
    "set_ch_position(scope, “CH1”, 0.5)\n",
    "set_ch_coupling(scope, “CH1”, ”AC”) #{ AC | DC | GND }\n",
    "get_ch_coupling(scope, “CH1”)\n",
    "get_trig_data(scope, “Source”) # “Level” “Mode”\n",
    "get_meas_data(scope, “MEAS1”) # “MEAS2” “MEAS3” “MEAS4” “MEAS5”\n",
    "set_vertical_scale(scope, “CH1”, 1)\n",
    "set_horizontal_scale(scope, 1e-3)\n",
    "set_trig_ch(scope, “CH1”)\n",
    "set_trig_level(scope, 0.1)\n",
    "set_trig_mode(scope, “AUTO”) # “NORMAL”\n",
    "set_meas_ch(scope, “MEAS1”, “CH1”)\n",
    "set_meas_type(scope, “MEAS1”, “FREQuency”) # “MEAN” “PERIod” “PK2pk” “MINImum” “MAXImum”\n",
    "set_meas(scope, “MEAS1”, “CH1”, “FREQuency”)\n",
    "auto_set(scope)"
   ]
  }
 ],
 "metadata": {
  "kernelspec": {
   "display_name": "Julia 1.5.2",
   "language": "julia",
   "name": "julia-1.5"
  },
  "language_info": {
   "file_extension": ".jl",
   "mimetype": "application/julia",
   "name": "julia",
   "version": "1.5.2"
  }
 },
 "nbformat": 4,
 "nbformat_minor": 4
}
